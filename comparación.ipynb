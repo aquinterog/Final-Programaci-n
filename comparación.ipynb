{
  "nbformat": 4,
  "nbformat_minor": 0,
  "metadata": {
    "colab": {
      "provenance": []
    },
    "kernelspec": {
      "name": "python3",
      "display_name": "Python 3"
    },
    "language_info": {
      "name": "python"
    }
  },
  "cells": [
    {
      "cell_type": "markdown",
      "source": [
        "# comparación"
      ],
      "metadata": {
        "id": "libS-OqkKqLq"
      }
    },
    {
      "cell_type": "code",
      "execution_count": null,
      "metadata": {
        "id": "kGJz5k0kJV76"
      },
      "outputs": [],
      "source": [
        "import pandas as pd\n",
        "import numpy as np\n",
        "import matplotlib.pyplot as plt\n",
        "import seaborn as sns\n",
        "from sklearn.metrics import classification_report, confusion_matrix, ConfusionMatrixDisplay, cohen_kappa_score\n",
        "\n",
        "\n",
        "np.random.seed(42)\n",
        "y_test = np.random.randint(0, 3, size=885)\n",
        "y_pred_model1 = np.random.randint(0, 3, size=885)\n",
        "y_pred_model2 = np.random.randint(0, 3, size=885)\n",
        "\n",
        "\n",
        "print(\"--- Modelo 1 ---\")\n",
        "print(classification_report(y_test, y_pred_model1))\n",
        "print(\"--- Modelo 2 (XGBoost) ---\")\n",
        "print(classification_report(y_test, y_pred_model2))\n",
        "\n",
        "\n",
        "fig, axes = plt.subplots(1, 2, figsize=(14, 6))\n",
        "cm1 = confusion_matrix(y_test, y_pred_model1)\n",
        "cm2 = confusion_matrix(y_test, y_pred_model2)\n",
        "\n",
        "ConfusionMatrixDisplay(cm1).plot(ax=axes[0], cmap='Blues', colorbar=False)\n",
        "axes[0].set_title(\"Modelo 1\")\n",
        "ConfusionMatrixDisplay(cm2).plot(ax=axes[1], cmap='Greens', colorbar=False)\n",
        "axes[1].set_title(\"Modelo 2 (XGBoost)\")\n",
        "plt.tight_layout()\n",
        "plt.show()\n",
        "\n",
        "\n",
        "kappa_model1 = cohen_kappa_score(y_test, y_pred_model1)\n",
        "kappa_model2 = cohen_kappa_score(y_test, y_pred_model2)\n",
        "\n",
        "print(f\"Kappa Modelo 1: {kappa_model1:.3f}\")\n",
        "print(f\"Kappa Modelo 2 (XGBoost): {kappa_model2:.3f}\")\n",
        "\n",
        "\n",
        "if kappa_model1 > kappa_model2:\n",
        "    print(\"Modelo 1 muestra mejor concordancia con las etiquetas reales.\")\n",
        "elif kappa_model1 < kappa_model2:\n",
        "    print(\"Modelo 2 (XGBoost) muestra mejor concordancia con las etiquetas reales.\")\n",
        "else:\n",
        "    print(\"Ambos modelos muestran un nivel de concordancia similar.\")\n"
      ]
    }
  ]
}