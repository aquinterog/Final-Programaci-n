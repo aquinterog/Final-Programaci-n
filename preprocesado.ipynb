{
  "nbformat": 4,
  "nbformat_minor": 0,
  "metadata": {
    "colab": {
      "provenance": []
    },
    "kernelspec": {
      "name": "python3",
      "display_name": "Python 3"
    },
    "language_info": {
      "name": "python"
    }
  },
  "cells": [
    {
      "cell_type": "markdown",
      "source": [
        "# Preprocesado"
      ],
      "metadata": {
        "id": "oZ_eZPdsKcPQ"
      }
    },
    {
      "cell_type": "code",
      "execution_count": null,
      "metadata": {
        "id": "h5gZDol6JRbf"
      },
      "outputs": [],
      "source": [
        "from sklearn.impute import SimpleImputer\n",
        "from sklearn.preprocessing import StandardScaler, LabelEncoder\n",
        "\n",
        "df_cleaned = df_missing.copy()\n",
        "\n",
        "numeric_cols = df_cleaned.select_dtypes(include=['float64', 'int64']).columns\n",
        "categorical_cols = df_cleaned.select_dtypes(include=['object']).columns\n",
        "\n",
        "num_imputer = SimpleImputer(strategy='mean')\n",
        "df_cleaned[numeric_cols] = num_imputer.fit_transform(df_cleaned[numeric_cols])\n",
        "\n",
        "cat_imputer = SimpleImputer(strategy='most_frequent')\n",
        "df_cleaned[categorical_cols] = cat_imputer.fit_transform(df_cleaned[categorical_cols])\n",
        "\n",
        "if 'Target' in df_cleaned.columns:\n",
        "    df_cleaned['Target'] = LabelEncoder().fit_transform(df_cleaned['Target'])\n",
        "\n",
        "scaler = StandardScaler()\n",
        "df_cleaned[numeric_cols] = scaler.fit_transform(df_cleaned[numeric_cols])\n",
        "\n",
        "\n",
        "print(df_cleaned.head())\n"
      ]
    }
  ]
}