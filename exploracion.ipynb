{
  "nbformat": 4,
  "nbformat_minor": 0,
  "metadata": {
    "colab": {
      "provenance": []
    },
    "kernelspec": {
      "name": "python3",
      "display_name": "Python 3"
    },
    "language_info": {
      "name": "python"
    }
  },
  "cells": [
    {
      "cell_type": "markdown",
      "source": [
        "# Exploración"
      ],
      "metadata": {
        "id": "Iq2nDET4Jp5x"
      }
    },
    {
      "cell_type": "code",
      "execution_count": null,
      "metadata": {
        "id": "c5kDT84bvQV5"
      },
      "outputs": [],
      "source": [
        "import pandas as pd\n",
        "import numpy as np\n",
        "import matplotlib.pyplot as plt\n",
        "import seaborn as sns\n",
        "\n",
        "url = 'hola.zip'\n",
        "df = pd.read_csv(url, delimiter=';')\n",
        "\n",
        "df_missing = df.copy()\n",
        "total_values = df_missing.size\n",
        "n_missing = int(total_values * 0.05)\n",
        "\n",
        "for _ in range(n_missing):\n",
        "    i = np.random.randint(0, df_missing.shape[0])\n",
        "    j = np.random.randint(0, df_missing.shape[1])\n",
        "    df_missing.iat[i, j] = np.nan\n",
        "\n",
        "df_missing.to_csv('data_with_missing.csv', index=False)\n",
        "\n",
        "print(\"dimensiones del dataset:\", df_missing.shape)\n",
        "print(\"columnas: \", df_missing.columns.tolist())\n",
        "\n",
        "print(df_missing.describe(include='all'))\n",
        "\n",
        "missing_ratio = df_missing.isnull().mean()\n",
        "print(\"valores faltantes por columna:\")\n",
        "print(missing_ratio * 100)\n",
        "\n",
        "plt.figure(figsize=(12, 6))\n",
        "sns.heatmap(df_missing.isnull(), cbar=False, cmap='viridis')\n",
        "plt.title('Mapa de calor de valores faltantes')\n",
        "plt.show()\n",
        "\n",
        "df_missing.select_dtypes(include='number').hist(figsize=(15, 10))\n",
        "plt.tight_layout()\n",
        "plt.show()\n",
        "\n",
        "plt.figure(figsize=(12, 10))\n",
        "sns.heatmap(df_missing.select_dtypes(include='number').corr(), annot=True, cmap='coolwarm', fmt=\".1f\")\n",
        "plt.title('matriz de correlacion')\n",
        "plt.show()\n"
      ]
    }
  ]
}